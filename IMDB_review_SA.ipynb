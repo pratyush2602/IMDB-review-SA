{
  "nbformat": 4,
  "nbformat_minor": 0,
  "metadata": {
    "colab": {
      "provenance": [],
      "include_colab_link": true
    },
    "kernelspec": {
      "name": "python3",
      "display_name": "Python 3"
    },
    "language_info": {
      "name": "python"
    }
  },
  "cells": [
    {
      "cell_type": "markdown",
      "metadata": {
        "id": "view-in-github",
        "colab_type": "text"
      },
      "source": [
        "<a href=\"https://colab.research.google.com/github/pratyush2602/IMDB-review-SA/blob/main/IMDB_review_SA.ipynb\" target=\"_parent\"><img src=\"https://colab.research.google.com/assets/colab-badge.svg\" alt=\"Open In Colab\"/></a>"
      ]
    },
    {
      "cell_type": "code",
      "execution_count": null,
      "metadata": {
        "id": "pQ8JTV-sNb8W"
      },
      "outputs": [],
      "source": [
        "#For this project, we will be using the dataset provided by Keras. This dataset is already preprocessed, and the text (reviews) is already converted to its numeric representation."
      ]
    },
    {
      "cell_type": "code",
      "source": [
        "#Load the dataset\n",
        "import tensorflow as tf\n",
        "import tensorflow.keras\n",
        "from tensorflow.keras.datasets import imdb\n",
        "\n",
        "((XT,YT), (Xt,Yt)) = imdb.load_data(num_words = 10000) #we only want the top 10000 words that most frequently occur in the dataset\n",
        "print(\"Dataset loaded!\")"
      ],
      "metadata": {
        "colab": {
          "base_uri": "https://localhost:8080/"
        },
        "id": "uSgvw4B0NmOc",
        "outputId": "836142f6-009e-45f4-8d3d-29b88ce6a3ce"
      },
      "execution_count": null,
      "outputs": [
        {
          "output_type": "stream",
          "name": "stdout",
          "text": [
            "Downloading data from https://storage.googleapis.com/tensorflow/tf-keras-datasets/imdb.npz\n",
            "17464789/17464789 [==============================] - 0s 0us/step\n",
            "Dataset loaded!\n"
          ]
        }
      ]
    },
    {
      "cell_type": "code",
      "source": [
        "print(\"The length of the Training Dataset: \", len(XT))\n",
        "print(\"The length of the Testing Dataset: \", len(Xt))"
      ],
      "metadata": {
        "colab": {
          "base_uri": "https://localhost:8080/"
        },
        "id": "II5Qs-ydOyjB",
        "outputId": "40de5564-f77f-4ad9-cbc9-2fc6c46354bc"
      },
      "execution_count": null,
      "outputs": [
        {
          "output_type": "stream",
          "name": "stdout",
          "text": [
            "The length of the Training Dataset:  25000\n",
            "The length of the Testing Dataset:  25000\n"
          ]
        }
      ]
    },
    {
      "cell_type": "code",
      "source": [
        "print(XT[0])\n",
        "print(len(XT[0]))"
      ],
      "metadata": {
        "colab": {
          "base_uri": "https://localhost:8080/"
        },
        "id": "ZvFQlcDRPIW4",
        "outputId": "8b223345-d809-4bef-99fc-bf10d30faeed"
      },
      "execution_count": null,
      "outputs": [
        {
          "output_type": "stream",
          "name": "stdout",
          "text": [
            "[1, 14, 22, 16, 43, 530, 973, 1622, 1385, 65, 458, 4468, 66, 3941, 4, 173, 36, 256, 5, 25, 100, 43, 838, 112, 50, 670, 2, 9, 35, 480, 284, 5, 150, 4, 172, 112, 167, 2, 336, 385, 39, 4, 172, 4536, 1111, 17, 546, 38, 13, 447, 4, 192, 50, 16, 6, 147, 2025, 19, 14, 22, 4, 1920, 4613, 469, 4, 22, 71, 87, 12, 16, 43, 530, 38, 76, 15, 13, 1247, 4, 22, 17, 515, 17, 12, 16, 626, 18, 2, 5, 62, 386, 12, 8, 316, 8, 106, 5, 4, 2223, 5244, 16, 480, 66, 3785, 33, 4, 130, 12, 16, 38, 619, 5, 25, 124, 51, 36, 135, 48, 25, 1415, 33, 6, 22, 12, 215, 28, 77, 52, 5, 14, 407, 16, 82, 2, 8, 4, 107, 117, 5952, 15, 256, 4, 2, 7, 3766, 5, 723, 36, 71, 43, 530, 476, 26, 400, 317, 46, 7, 4, 2, 1029, 13, 104, 88, 4, 381, 15, 297, 98, 32, 2071, 56, 26, 141, 6, 194, 7486, 18, 4, 226, 22, 21, 134, 476, 26, 480, 5, 144, 30, 5535, 18, 51, 36, 28, 224, 92, 25, 104, 4, 226, 65, 16, 38, 1334, 88, 12, 16, 283, 5, 16, 4472, 113, 103, 32, 15, 16, 5345, 19, 178, 32]\n",
            "218\n"
          ]
        }
      ]
    },
    {
      "cell_type": "code",
      "source": [
        "word_idx = imdb.get_word_index() #returns dict with words mapped to nums\n",
        "idx_word = dict([value, key] for (key,value) in word_idx.items()) #inverted above dict to suit our dataset\n",
        "\n",
        "actual_review = ' '.join([idx_word.get(idx-3, '?') for idx in XT[0]])#list comprehension to join each word and get actual review\n",
        "#? when no word is matched with the number in the review\n",
        "\n",
        "#One more thing to note here is that the indices are offset by three because 0, 1, and 2 are reserved indices for “padding”,\n",
        "#“start of sequence” and “unknown”. That’s why we used the idx-3 expression in the code.\n",
        "\n",
        "print(actual_review)\n",
        "print(len(actual_review.split()))"
      ],
      "metadata": {
        "colab": {
          "base_uri": "https://localhost:8080/"
        },
        "id": "8qJ-Gwv2PLaZ",
        "outputId": "d7b36689-61c7-4205-f81a-635ad60778bc"
      },
      "execution_count": null,
      "outputs": [
        {
          "output_type": "stream",
          "name": "stdout",
          "text": [
            "Downloading data from https://storage.googleapis.com/tensorflow/tf-keras-datasets/imdb_word_index.json\n",
            "1641221/1641221 [==============================] - 0s 0us/step\n",
            "? this film was just brilliant casting location scenery story direction everyone's really suited the part they played and you could just imagine being there robert ? is an amazing actor and now the same being director ? father came from the same scottish island as myself so i loved the fact there was a real connection with this film the witty remarks throughout the film were great it was just brilliant so much that i bought the film as soon as it was released for ? and would recommend it to everyone to watch and the fly fishing was amazing really cried at the end it was so sad and you know what they say if you cry at a film it must have been good and this definitely was also ? to the two little boy's that played the ? of norman and paul they were just brilliant children are often left out of the ? list i think because the stars that play them all grown up are such a big profile for the whole film but these children are amazing and should be praised for what they have done don't you think the whole story was so lovely because it was true and was someone's life after all that was shared with us all\n",
            "218\n"
          ]
        }
      ]
    },
    {
      "cell_type": "code",
      "source": [
        "#Padding\n",
        "\n",
        "from tensorflow.keras.preprocessing import sequence\n",
        "\n",
        "#we assume maxlen of reviews to be 500 => padding makes 2d vector (25000,500)\n",
        "#where 25000 is num of reviews\n",
        "\n",
        "X_train = sequence.pad_sequences(XT, maxlen = 500)\n",
        "X_test = sequence.pad_sequences(Xt, maxlen = 500)\n",
        "\n",
        "print(\"Padding completed!\")"
      ],
      "metadata": {
        "colab": {
          "base_uri": "https://localhost:8080/"
        },
        "id": "grlomJdQRABn",
        "outputId": "77ffca41-d4bc-4d86-ecb6-2982c1d559e9"
      },
      "execution_count": null,
      "outputs": [
        {
          "output_type": "stream",
          "name": "stdout",
          "text": [
            "Padding completed!\n"
          ]
        }
      ]
    },
    {
      "cell_type": "code",
      "source": [
        "print(X_train[0])\n",
        "#data is ready to be used"
      ],
      "metadata": {
        "colab": {
          "base_uri": "https://localhost:8080/"
        },
        "id": "opzAA0EfRRRQ",
        "outputId": "9e3d06da-891e-4851-ae7b-8c5a18b9c6b2"
      },
      "execution_count": null,
      "outputs": [
        {
          "output_type": "stream",
          "name": "stdout",
          "text": [
            "[   0    0    0    0    0    0    0    0    0    0    0    0    0    0\n",
            "    0    0    0    0    0    0    0    0    0    0    0    0    0    0\n",
            "    0    0    0    0    0    0    0    0    0    0    0    0    0    0\n",
            "    0    0    0    0    0    0    0    0    0    0    0    0    0    0\n",
            "    0    0    0    0    0    0    0    0    0    0    0    0    0    0\n",
            "    0    0    0    0    0    0    0    0    0    0    0    0    0    0\n",
            "    0    0    0    0    0    0    0    0    0    0    0    0    0    0\n",
            "    0    0    0    0    0    0    0    0    0    0    0    0    0    0\n",
            "    0    0    0    0    0    0    0    0    0    0    0    0    0    0\n",
            "    0    0    0    0    0    0    0    0    0    0    0    0    0    0\n",
            "    0    0    0    0    0    0    0    0    0    0    0    0    0    0\n",
            "    0    0    0    0    0    0    0    0    0    0    0    0    0    0\n",
            "    0    0    0    0    0    0    0    0    0    0    0    0    0    0\n",
            "    0    0    0    0    0    0    0    0    0    0    0    0    0    0\n",
            "    0    0    0    0    0    0    0    0    0    0    0    0    0    0\n",
            "    0    0    0    0    0    0    0    0    0    0    0    0    0    0\n",
            "    0    0    0    0    0    0    0    0    0    0    0    0    0    0\n",
            "    0    0    0    0    0    0    0    0    0    0    0    0    0    0\n",
            "    0    0    0    0    0    0    0    0    0    0    0    0    0    0\n",
            "    0    0    0    0    0    0    0    0    0    0    0    0    0    0\n",
            "    0    0    1   14   22   16   43  530  973 1622 1385   65  458 4468\n",
            "   66 3941    4  173   36  256    5   25  100   43  838  112   50  670\n",
            "    2    9   35  480  284    5  150    4  172  112  167    2  336  385\n",
            "   39    4  172 4536 1111   17  546   38   13  447    4  192   50   16\n",
            "    6  147 2025   19   14   22    4 1920 4613  469    4   22   71   87\n",
            "   12   16   43  530   38   76   15   13 1247    4   22   17  515   17\n",
            "   12   16  626   18    2    5   62  386   12    8  316    8  106    5\n",
            "    4 2223 5244   16  480   66 3785   33    4  130   12   16   38  619\n",
            "    5   25  124   51   36  135   48   25 1415   33    6   22   12  215\n",
            "   28   77   52    5   14  407   16   82    2    8    4  107  117 5952\n",
            "   15  256    4    2    7 3766    5  723   36   71   43  530  476   26\n",
            "  400  317   46    7    4    2 1029   13  104   88    4  381   15  297\n",
            "   98   32 2071   56   26  141    6  194 7486   18    4  226   22   21\n",
            "  134  476   26  480    5  144   30 5535   18   51   36   28  224   92\n",
            "   25  104    4  226   65   16   38 1334   88   12   16  283    5   16\n",
            " 4472  113  103   32   15   16 5345   19  178   32]\n"
          ]
        }
      ]
    },
    {
      "cell_type": "code",
      "source": [
        "#model architecture\n",
        "\n",
        "from tensorflow.keras.layers import Embedding, SimpleRNN, Dense\n",
        "from tensorflow.keras.models import Sequential\n",
        "\n",
        "model = Sequential()\n",
        "model.add(Embedding(40000,192)) # 10000 words get embedded into vector of size 64\n",
        "\n",
        "model.add(SimpleRNN(64)) #activation len 32\n",
        "model.add(Dense(1, activation=\"sigmoid\"))\n",
        "\n",
        "print(model.summary())\n",
        "\n",
        "#single embedding matrix that gets trained and is shared among all the inputs and RNN cells"
      ],
      "metadata": {
        "colab": {
          "base_uri": "https://localhost:8080/"
        },
        "id": "4gGIuo4LR0R9",
        "outputId": "92d1f19e-1ae3-4bf8-c454-52aea0530b73"
      },
      "execution_count": null,
      "outputs": [
        {
          "output_type": "stream",
          "name": "stdout",
          "text": [
            "Model: \"sequential_2\"\n",
            "_________________________________________________________________\n",
            " Layer (type)                Output Shape              Param #   \n",
            "=================================================================\n",
            " embedding_2 (Embedding)     (None, None, 64)          640000    \n",
            "                                                                 \n",
            " simple_rnn_2 (SimpleRNN)    (None, 32)                3104      \n",
            "                                                                 \n",
            " dense_2 (Dense)             (None, 1)                 33        \n",
            "                                                                 \n",
            "=================================================================\n",
            "Total params: 643,137\n",
            "Trainable params: 643,137\n",
            "Non-trainable params: 0\n",
            "_________________________________________________________________\n",
            "None\n"
          ]
        }
      ]
    },
    {
      "cell_type": "code",
      "source": [
        "model.compile(optimizer='adam', loss='binary_crossentropy', metrics=['acc'])\n",
        "\n",
        "print(\"Model compiled successfully\")"
      ],
      "metadata": {
        "colab": {
          "base_uri": "https://localhost:8080/"
        },
        "id": "YlqBOvvbTCxc",
        "outputId": "f4fb298c-be9d-455f-97af-3991d291e17b"
      },
      "execution_count": null,
      "outputs": [
        {
          "output_type": "stream",
          "name": "stdout",
          "text": [
            "Model compiled successfully\n"
          ]
        }
      ]
    },
    {
      "cell_type": "code",
      "source": [
        "from tensorflow.keras.callbacks import ModelCheckpoint\n",
        "from tensorflow.keras.callbacks import EarlyStopping\n",
        "\n",
        "checkpoint = ModelCheckpoint(\"best_model.h5\", monitor='val_loss', verbose=0, save_best_only=True, save_weights_only=False)\n",
        "earlystop = EarlyStopping(monitor='val_acc', patience=1)\n",
        "\n",
        "print(\"CallBack created!\")"
      ],
      "metadata": {
        "colab": {
          "base_uri": "https://localhost:8080/"
        },
        "id": "aHOrI-7YTei4",
        "outputId": "21490845-becc-4b67-a945-ff0b1e8f91eb"
      },
      "execution_count": null,
      "outputs": [
        {
          "output_type": "stream",
          "name": "stdout",
          "text": [
            "CallBack created!\n"
          ]
        }
      ]
    },
    {
      "cell_type": "code",
      "source": [
        "#traint the model\n",
        "hist = model.fit(X_train, YT, validation_split=0.2, epochs=10, batch_size=128, callbacks=[checkpoint,earlystop])"
      ],
      "metadata": {
        "colab": {
          "base_uri": "https://localhost:8080/"
        },
        "id": "l3IE13gZUUTJ",
        "outputId": "2df98499-e639-4eaf-e7a4-9b9165584e1c"
      },
      "execution_count": null,
      "outputs": [
        {
          "output_type": "stream",
          "name": "stdout",
          "text": [
            "Epoch 1/10\n",
            "157/157 [==============================] - 45s 274ms/step - loss: 0.5618 - acc: 0.7003 - val_loss: 0.4422 - val_acc: 0.8090\n",
            "Epoch 2/10\n",
            "157/157 [==============================] - 49s 314ms/step - loss: 0.3338 - acc: 0.8648 - val_loss: 0.3627 - val_acc: 0.8462\n",
            "Epoch 3/10\n",
            "157/157 [==============================] - 52s 334ms/step - loss: 0.2322 - acc: 0.9112 - val_loss: 0.3788 - val_acc: 0.8370\n"
          ]
        }
      ]
    },
    {
      "cell_type": "code",
      "source": [
        "#Visualizing the results\n",
        "import matplotlib.pyplot as plt\n",
        "\n",
        "acc = hist.history['acc']\n",
        "val_acc = hist.history['val_acc']\n",
        "loss = hist.history['loss']\n",
        "val_loss = hist.history['val_loss']\n",
        "epochs = range(1,len(loss)+1)\n",
        "\n",
        "plt.title(\"Acc vs Epochs\")\n",
        "plt.plot(epochs, acc, label=\"Training Acc\")\n",
        "plt.plot(epochs, val_acc, label=\"Val acc\")\n",
        "plt.legend()\n",
        "plt.show()\n",
        "\n",
        "plt.title(\"Loss vs Epochs\")\n",
        "plt.plot(epochs,loss,label=\"Training Loss\")\n",
        "plt.plot(epochs,val_loss,label=\"Val Loss\")\n",
        "plt.legend()\n",
        "plt.show()"
      ],
      "metadata": {
        "colab": {
          "base_uri": "https://localhost:8080/",
          "height": 887
        },
        "id": "5R9SoTZ0UtHc",
        "outputId": "2dc16838-23fe-40c5-c893-3012ba11755b"
      },
      "execution_count": null,
      "outputs": [
        {
          "output_type": "display_data",
          "data": {
            "text/plain": [
              "<Figure size 640x480 with 1 Axes>"
            ],
            "image/png": "[encoded data removed]"
          },
          "metadata": {}
        },
        {
          "output_type": "display_data",
          "data": {
            "text/plain": [
              "<Figure size 640x480 with 1 Axes>"
            ],
            "image/png": "[encoded data removed]"
          },
          "metadata": {}
        }
      ]
    },
    {
      "cell_type": "code",
      "source": [
        "#Test the model\n",
        "model.evaluate(X_test,Yt)"
      ],
      "metadata": {
        "colab": {
          "base_uri": "https://localhost:8080/"
        },
        "id": "knZpmDeKVvun",
        "outputId": "24d72ff1-cbd4-408c-86ff-92d895dd2db6"
      },
      "execution_count": null,
      "outputs": [
        {
          "output_type": "stream",
          "name": "stdout",
          "text": [
            "782/782 [==============================] - 27s 34ms/step - loss: 0.3853 - acc: 0.8331\n"
          ]
        },
        {
          "output_type": "execute_result",
          "data": {
            "text/plain": [
              "[0.3853372633457184, 0.833079993724823]"
            ]
          },
          "metadata": {},
          "execution_count": 23
        }
      ]
    },
    {
      "cell_type": "code",
      "source": [
        "#Run model against my input\n",
        "\n",
        "sentence = \"This movie is kinda good. I like it because the actress is my favourite\"\n",
        "input = []\n",
        "\n",
        "word_idx = imdb.get_word_index()\n",
        "\n",
        "for word in sentence.split():\n",
        "  if word in word_idx.keys():\n",
        "    input.append(word_idx[word])\n",
        "  else:\n",
        "    input.append(1)\n",
        "\n",
        "print(input)\n",
        "\n",
        "final_input = sequence.pad_sequences([input], maxlen=500)\n",
        "\n",
        "sentiment = model.predict(final_input)\n",
        "\n",
        "if(sentiment > 0.5):\n",
        "  print(\"Positive review\")\n",
        "else:\n",
        "  print(\"Negative review\")"
      ],
      "metadata": {
        "colab": {
          "base_uri": "https://localhost:8080/"
        },
        "id": "3d1jXo5LVmhx",
        "outputId": "d9bab510-d1b2-44de-d11a-51abb089d25f"
      },
      "execution_count": null,
      "outputs": [
        {
          "output_type": "stream",
          "name": "stdout",
          "text": [
            "[1, 17, 6, 1929, 1, 1, 37, 9, 85, 1, 521, 6, 58, 1637]\n",
            "1/1 [==============================] - 0s 54ms/step\n",
            "Positive review\n"
          ]
        }
      ]
    },
    {
      "cell_type": "markdown",
      "source": [],
      "metadata": {
        "id": "Pql5Z80Mcj0X"
      }
    }
  ]
}